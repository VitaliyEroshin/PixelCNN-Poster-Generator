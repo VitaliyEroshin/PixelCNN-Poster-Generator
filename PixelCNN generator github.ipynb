{
 "cells": [
  {
   "cell_type": "code",
   "execution_count": null,
   "metadata": {},
   "outputs": [],
   "source": [
    "# RUN ONCE\n",
    "#!git clone https://github.com/benckx/dnn-movie-posters.git!cd dnn-movie-posters && python3 ./get_data.py -download\n"
   ]
  },
  {
   "cell_type": "code",
   "execution_count": null,
   "metadata": {},
   "outputs": [],
   "source": [
    "# RUN ONCE\n",
    "# !cd dnn-movie-posters && python3 ./get_data.py -download\n",
    "\n",
    "#!pip install pandas==0.22 --user"
   ]
  },
  {
   "cell_type": "code",
   "execution_count": null,
   "metadata": {},
   "outputs": [],
   "source": [
    "!nvidia-smi"
   ]
  },
  {
   "cell_type": "code",
   "execution_count": 1,
   "metadata": {},
   "outputs": [],
   "source": [
    "import os\n",
    "os.environ[\"CUDA_VISIBLE_DEVICES\"]=\"2\"\n",
    "\n",
    "from tqdm import tqdm_notebook as tqdm\n",
    "from IPython.display import clear_output\n",
    "\n",
    "import torch\n",
    "import torch.nn as nn\n",
    "import torch.utils as utils\n",
    "import torch.nn.init as init\n",
    "from torch.autograd import Variable\n",
    "import torchvision.utils as v_utils\n",
    "import torchvision.transforms as transforms\n",
    "import torchvision\n",
    "from torchvision import datasets\n",
    "from torchvision.utils import make_grid\n",
    "\n",
    "import numpy as np\n",
    "import matplotlib.pyplot as plt\n",
    "\n",
    "%matplotlib inline"
   ]
  },
  {
   "cell_type": "code",
   "execution_count": 2,
   "metadata": {},
   "outputs": [],
   "source": [
    "batch_size = 8\n",
    "device = 'cuda' if torch.cuda.is_available() else 'cpu'\n",
    "num_buckets = 10\n",
    "\n",
    "original_shape = [268, 182]\n",
    "resize_n = 3\n",
    "\n",
    "\n"
   ]
  },
  {
   "cell_type": "code",
   "execution_count": 4,
   "metadata": {},
   "outputs": [],
   "source": [
    "def bucketize(x):\n",
    "    x = (x * 9.99).int()\n",
    "    return x"
   ]
  },
  {
   "cell_type": "code",
   "execution_count": 5,
   "metadata": {},
   "outputs": [],
   "source": [
    "poster_transforms = transforms.Compose([ # Compose combines a number of transforms into one operation\n",
    "    transforms.Resize([original_shape[0]//resize_n, original_shape[1]//resize_n]),\n",
    "    transforms.Grayscale(num_output_channels = 1),\n",
    "    transforms.ToTensor(), # PIL Image -> Tensor\n",
    "    transforms.Lambda(lambda x: bucketize(x)),\n",
    "])\n",
    "\n",
    "shape = [original_shape[0]//resize_n, original_shape[1]//resize_n]"
   ]
  },
  {
   "cell_type": "code",
   "execution_count": 6,
   "metadata": {},
   "outputs": [],
   "source": [
    "data_path = \"./dnn-movie-posters/data/images/\"\n",
    "val_data_path = './dnn-movie-posters/data/val/'"
   ]
  },
  {
   "cell_type": "code",
   "execution_count": 7,
   "metadata": {},
   "outputs": [],
   "source": [
    "# # RUN ONCE \n",
    "# val_files = os.listdir(data_path + '100/')[-100:]\n",
    "# os.makedirs(val_data_path, exist_ok=True)\n",
    "# os.makedirs(val_data_path + '100/', exist_ok=True)\n",
    "# for file in val_files:\n",
    "#     os.rename(data_path + '100/' + file, val_data_path + '100/'+ file)\n"
   ]
  },
  {
   "cell_type": "code",
   "execution_count": 8,
   "metadata": {},
   "outputs": [],
   "source": [
    "train_dataset = datasets.ImageFolder(data_path, transform=poster_transforms)\n",
    "train_loader = torch.utils.data.DataLoader(dataset=train_dataset,\n",
    "                                           batch_size=batch_size,\n",
    "                                           shuffle=True,\n",
    "                                           drop_last=True)\n",
    "\n",
    "val_dataset = datasets.ImageFolder(val_data_path, transform=poster_transforms)\n",
    "val_loader = torch.utils.data.DataLoader(val_dataset,\n",
    "                                         batch_size=batch_size,\n",
    "                                         shuffle=True,\n",
    "                                         drop_last=True)\n"
   ]
  },
  {
   "cell_type": "code",
   "execution_count": 9,
   "metadata": {},
   "outputs": [
    {
     "data": {
      "text/plain": [
       "torch.Size([8, 1, 89, 60])"
      ]
     },
     "execution_count": 9,
     "metadata": {},
     "output_type": "execute_result"
    }
   ],
   "source": [
    "image, _ = next(iter(train_loader))\n",
    "image.shape"
   ]
  },
  {
   "cell_type": "code",
   "execution_count": 10,
   "metadata": {},
   "outputs": [],
   "source": [
    "def plot_image(image, cmap=None):\n",
    "    plt.figure(figsize=(10, 10))\n",
    "    plt.imshow(image.detach().cpu().permute(1, 2, 0).squeeze(), cmap=cmap)\n",
    "    plt.show()\n"
   ]
  },
  {
   "cell_type": "code",
   "execution_count": 11,
   "metadata": {},
   "outputs": [
    {
     "data": {
      "image/png": "[encoded data removed]",
      "text/plain": [
       "<Figure size 720x720 with 1 Axes>"
      ]
     },
     "metadata": {
      "needs_background": "light"
     },
     "output_type": "display_data"
    }
   ],
   "source": [
    "plot_image(image[0], cmap=None)"
   ]
  },
  {
   "cell_type": "code",
   "execution_count": 12,
   "metadata": {},
   "outputs": [],
   "source": [
    "def make_mask(include_center, height, width):\n",
    "    mask = torch.ones(height, width).long()\n",
    "    mask[height//2][(width+include_center)//2:] = torch.zeros(width - (width+include_center)//2)\n",
    "    mask[(height+1)//2:] = torch.zeros(height-(height+1)//2, width)\n",
    "    return mask"
   ]
  },
  {
   "cell_type": "code",
   "execution_count": 13,
   "metadata": {},
   "outputs": [],
   "source": [
    "class MaskedCNN(nn.Conv2d):\n",
    "    def __init__(self, include_center, *args, **kwargs):\n",
    "        \"\"\"include_center (bool)\"\"\"\n",
    "        super(MaskedCNN, self).__init__(*args, **kwargs)\n",
    "        self.include_center = include_center\n",
    "        self.register_buffer('mask', self.weight.data.clone())\n",
    "\n",
    "        _, depth, height, width = self.weight.size()\n",
    "        self.mask.fill_(1)\n",
    "        self.mask[:,:] = make_mask(self.include_center, height, width )\n",
    "\n",
    "    def forward(self, x):\n",
    "        self.weight.data*=self.mask\n",
    "        return super(MaskedCNN, self).forward(x)"
   ]
  },
  {
   "cell_type": "code",
   "execution_count": 15,
   "metadata": {},
   "outputs": [],
   "source": [
    "class PixelCNN(nn.Module):\n",
    "    def __init__(self, depth=3, input_channels=1, num_pixels=10):\n",
    "        super(PixelCNN,self).__init__()\n",
    "        self.layers = nn.Sequential(\n",
    "            MaskedCNN(False, input_channels, 64, 7, stride=1, padding=3, bias=True),\n",
    "            nn.BatchNorm2d(64),\n",
    "            nn.ReLU(),\n",
    "            \n",
    "             MaskedCNN(True, 64, 64, 5, stride = 1, padding=2, bias=True),\n",
    "             nn.BatchNorm2d(64),\n",
    "             nn.ReLU(),\n",
    "             MaskedCNN(True, 64, 64, 5, stride=1, padding=2, bias=False),\n",
    "             nn.BatchNorm2d(64),\n",
    "             nn.ReLU(),\n",
    "            \n",
    "            MaskedCNN(True, 64, 64, 3, stride=1, padding=2, bias=False),\n",
    "            nn.BatchNorm2d(64),\n",
    "            nn.ReLU(),\n",
    "            nn.Conv2d(64, num_pixels, 1)\n",
    "        )\n",
    "    def forward(self, x):\n",
    "        x = x.float()\n",
    "        x = self.layers(x)\n",
    "        return x\n",
    "        \n",
    "    def generate_samples(self, starting_image, starting_point=(0, 0)):\n",
    "        self.eval()\n",
    "        i, j = starting_point\n",
    "        while i < shape[0]:\n",
    "            while j < shape[1]:\n",
    "                out = nn.Softmax()(self.forward(starting_image)).detach().cpu()\n",
    "                starting_image[:, :, i, j] = torch.LongTensor(torch.multinomial(out[:, :, i, j], 1))\n",
    "                j += 1\n",
    "\n",
    "            i += 1\n",
    "            j = 0\n",
    "\n",
    "        return starting_image\n"
   ]
  },
  {
   "cell_type": "code",
   "execution_count": 16,
   "metadata": {},
   "outputs": [],
   "source": [
    "def plot_losses(losses):\n",
    "    plt.figure(figsize=(10, 4))\n",
    "    plt.plot(losses)\n",
    "    plt.show()"
   ]
  },
  {
   "cell_type": "code",
   "execution_count": 17,
   "metadata": {},
   "outputs": [],
   "source": [
    "model = PixelCNN().to(device)\n",
    "model = torch.load('./model github')\n",
    "optimizer = torch.optim.Adam(model.parameters())\n",
    "criterion = nn.CrossEntropyLoss()"
   ]
  },
  {
   "cell_type": "code",
   "execution_count": null,
   "metadata": {
    "scrolled": true
   },
   "outputs": [],
   "source": [
    "losses = []\n",
    "imgs = []\n",
    "for i in range(1000):\n",
    "    model.train()\n",
    "    c = 0\n",
    "    for ind, (image, _) in (enumerate(train_loader)):\n",
    "        optimizer.zero_grad()\n",
    "        image = image.to(device)\n",
    "        logits = model(image)\n",
    "        loss = criterion(logits, image.long().squeeze())\n",
    "        loss.backward()\n",
    "        optimizer.step()\n",
    "    model.eval()\n",
    "    image, _ = next(iter(val_loader))\n",
    "    starting_image = image.clone()\n",
    "    starting_image[:, :, :, :] = 0\n",
    "    sample = model.generate_samples(starting_image[:1].to(device), (0, 0))\n",
    "    plot_image(sample[0])\n",
    "    plot_losses(losses)\n",
    "    "
   ]
  },
  {
   "cell_type": "code",
   "execution_count": null,
   "metadata": {},
   "outputs": [],
   "source": [
    "torch.save(model, './model github')"
   ]
  },
  {
   "cell_type": "code",
   "execution_count": null,
   "metadata": {
    "scrolled": false
   },
   "outputs": [],
   "source": [
    "model.eval()\n",
    "image, _ = next(iter(val_loader))\n",
    "starting_image = image.clone()\n",
    "starting_image[:, :, :, :] = 0\n",
    "sample = model.generate_samples(starting_image[:1].to(device), (0, 0))\n",
    "plot_image(sample[0], cmap = 'gray')"
   ]
  }
 ],
 "metadata": {
  "celltoolbar": "Raw Cell Format",
  "kernelspec": {
   "display_name": "Python 3",
   "language": "python",
   "name": "python3"
  },
  "language_info": {
   "codemirror_mode": {
    "name": "ipython",
    "version": 3
   },
   "file_extension": ".py",
   "mimetype": "text/x-python",
   "name": "python",
   "nbconvert_exporter": "python",
   "pygments_lexer": "ipython3",
   "version": "3.6.8"
  }
 },
 "nbformat": 4,
 "nbformat_minor": 2
}
